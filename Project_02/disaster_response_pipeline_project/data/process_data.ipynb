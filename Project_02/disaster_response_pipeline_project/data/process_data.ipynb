{
 "cells": [
  {
   "cell_type": "code",
   "execution_count": 1,
   "metadata": {},
   "outputs": [
    {
     "name": "stdout",
     "output_type": "stream",
     "text": [
      "Please provide the filepaths of the messages and categories datasets as the first and second argument respectively, as well as the filepath of the database to save the cleaned data to as the third argument. \n",
      "\n",
      "Example: python process_data.py disaster_messages.csv disaster_categories.csv DisasterResponse.db\n"
     ]
    }
   ],
   "source": [
    "import sys\n",
    "import numpy as np\n",
    "import pandas as pd\n",
    "from sqlalchemy import create_engine\n",
    "\n",
    "\n",
    "def load_data(messages_filepath, categories_filepath):\n",
    "    # load messages dataset\n",
    "    messages = pd.read_csv(messages_filepath)\n",
    "    # load categories dataset\n",
    "    categories = pd.read_csv(categories_filepath)\n",
    "    # merge datasets\n",
    "    df = messages.merge(categories, left_on='id', right_on='id', how='inner')\n",
    "    # create a dataframe of the 36 individual category columns\n",
    "    categories = df['categories'].str.split(';',expand=True)\n",
    "    # select the first row of the categories dataframe\n",
    "    row = categories[0:1]\n",
    "    # use this row to extract a list of new column names for categories.\n",
    "    # one way is to apply a lambda function that takes everything \n",
    "    # up to the second to last character of each string with slicing\n",
    "    category_colnames = row.apply(lambda x: x.str[:-2]).values.tolist()\n",
    "    # rename the columns of `categories`\n",
    "    categories.columns = category_colnames\n",
    "    for column in categories:\n",
    "        # set each value to be the last character of the string\n",
    "        categories[column] = categories[column].str[-1]\n",
    "\n",
    "        # convert column from string to numeric\n",
    "        categories[column] = categories[column].astype(int)\n",
    "    # drop the original categories column from `df`\n",
    "    df.drop(['categories'], axis=1, inplace = True)\n",
    "    # concatenate the original dataframe with the new `categories` dataframe\n",
    "    df = pd.concat([df, categories], axis=1)\n",
    "    \n",
    "    return df\n",
    "\n",
    "def clean_data(df):\n",
    "    # drop duplicates\n",
    "    df = df.drop_duplicates()\n",
    "\n",
    "    return df\n",
    "\n",
    "def save_data(df, database_filename):\n",
    "    engine = create_engine('sqlite:///'+database_filename)\n",
    "    df.to_sql('ETL_Pipeline', engine, index=False)  \n",
    "\n",
    "\n",
    "def main():\n",
    "    if len(sys.argv) == 4:\n",
    "\n",
    "        messages_filepath, categories_filepath, database_filepath = sys.argv[1:]\n",
    "\n",
    "        print('Loading data...\\n    MESSAGES: {}\\n    CATEGORIES: {}\\n FILE: {}'\n",
    "              .format(messages_filepath, categories_filepath, database_filepath))\n",
    "        df = load_data(messages_filepath, categories_filepath)\n",
    "\n",
    "        print('Cleaning data...')\n",
    "        df = clean_data(df)\n",
    "        df.head()\n",
    "        print('Saving data...\\n    DATABASE: {}'.format(database_filepath))\n",
    "        save_data(df, database_filepath)\n",
    "        \n",
    "        print('Cleaned data saved to database!')\n",
    "    \n",
    "    else:\n",
    "        print('Please provide the filepaths of the messages and categories '\\\n",
    "              'datasets as the first and second argument respectively, as '\\\n",
    "              'well as the filepath of the database to save the cleaned data '\\\n",
    "              'to as the third argument. \\n\\nExample: python process_data.py '\\\n",
    "              'disaster_messages.csv disaster_categories.csv '\\\n",
    "              'DisasterResponse.db')\n",
    "\n",
    "\n",
    "if __name__ == '__main__':\n",
    "    main()\n"
   ]
  }
 ],
 "metadata": {
  "kernelspec": {
   "display_name": "Python 3.10.3 64-bit",
   "language": "python",
   "name": "python3"
  },
  "language_info": {
   "codemirror_mode": {
    "name": "ipython",
    "version": 3
   },
   "file_extension": ".py",
   "mimetype": "text/x-python",
   "name": "python",
   "nbconvert_exporter": "python",
   "pygments_lexer": "ipython3",
   "version": "3.10.3"
  },
  "orig_nbformat": 4,
  "vscode": {
   "interpreter": {
    "hash": "aee8b7b246df8f9039afb4144a1f6fd8d2ca17a180786b69acc140d282b71a49"
   }
  }
 },
 "nbformat": 4,
 "nbformat_minor": 2
}
