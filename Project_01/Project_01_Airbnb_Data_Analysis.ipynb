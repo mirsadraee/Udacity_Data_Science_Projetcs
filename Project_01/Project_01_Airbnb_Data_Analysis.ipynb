{
 "cells": [
  {
   "cell_type": "code",
   "execution_count": null,
   "metadata": {},
   "outputs": [],
   "source": [
    "# Importing Modules for data processing\n",
    "import pandas as pd\n",
    "import matplotlib.pyplot as plt\n",
    "import seaborn as sns\n",
    "sns.set_style('darkgrid')\n",
    "\n",
    "%matplotlib inline"
   ]
  },
  {
   "cell_type": "code",
   "execution_count": null,
   "metadata": {},
   "outputs": [],
   "source": [
    "# Set the path of dataframes\n",
    "data_path = r'./Munich/' \n",
    "\n",
    "# loading the dataframes\n",
    "calendar_df = pd.read_csv(data_path + 'calendar.csv')\n",
    "listings_df = pd.read_csv(data_path + 'listings.csv')\n",
    "reviews_df  = pd.read_csv(data_path + 'reviews.csv')\n",
    "\n",
    "# size of dataframes\n",
    "print(\"{:<20} {:>10} {:<5} {:>3} {:>5}\".format('calendar_df has',\"{:,.0f}\".format(calendar_df.shape[0]),' rows and ',\"{:,.0f}\".format(calendar_df.shape[1]),' columns.'))\n",
    "print(\"{:<20} {:>10} {:<5} {:>3} {:>5}\".format('listings_df has',\"{:,.0f}\".format(listings_df.shape[0]),' rows and ',\"{:,.0f}\".format(listings_df.shape[1]),' columns.'))\n",
    "print(\"{:<20} {:>10} {:<5} {:>3} {:>5}\".format('reviews_df has',\"{:,.0f}\".format(reviews_df.shape[0]),' rows and ',\"{:,.0f}\".format(reviews_df.shape[1]),' columns.'))"
   ]
  },
  {
   "cell_type": "code",
   "execution_count": null,
   "metadata": {},
   "outputs": [],
   "source": [
    "# Converting strings in the dataframe to floats and booleans\n",
    "# converting the price in calendar dataframe to float numbers in the dataframe\n",
    "calendar_df['price'] = calendar_df['price'].apply(lambda x: float(str(x).replace('$', '').replace(',', '')))\n",
    "\n",
    "# converting the string available to a boolean value in the dataframe\n",
    "calendar_df['available'].replace('f', False, inplace=True)\n",
    "calendar_df['available'].replace('t', True, inplace=True)"
   ]
  },
  {
   "cell_type": "code",
   "execution_count": null,
   "metadata": {},
   "outputs": [],
   "source": [
    "calendar_df.head(5)"
   ]
  },
  {
   "cell_type": "code",
   "execution_count": null,
   "metadata": {},
   "outputs": [],
   "source": [
    "# Calculating the unique number of objects in the calendar dataframe\n",
    "print('The number of objects in calendar dataframe is',\n",
    "      \"{:,.0f}\".format(calendar_df['listing_id'].nunique()))"
   ]
  },
  {
   "cell_type": "code",
   "execution_count": null,
   "metadata": {},
   "outputs": [],
   "source": [
    "print('The maximum price of objects is',\"{:,.2f}\".format(calendar_df['price'].max()),'$')\n",
    "print('The minimum price of objects is',\"{:,.2f}\".format(calendar_df['price'].min()),'$')\n",
    "print('The average price of objects is',\"{:,.2f}\".format(calendar_df['price'].mean()),'$')\n",
    "print('The maximum price of objects is',\"{:,.2f}\".format(calendar_df['price'][calendar_df['price'].between(10, 400)].mean()),'$')"
   ]
  },
  {
   "cell_type": "code",
   "execution_count": null,
   "metadata": {},
   "outputs": [],
   "source": [
    "print('The number of objects without ouliers in the calendar dataframe is',\n",
    "      \"{:,.0f}\".format(calendar_df['listing_id'][calendar_df['price'].between(10, 400)].nunique()))"
   ]
  },
  {
   "cell_type": "code",
   "execution_count": null,
   "metadata": {},
   "outputs": [],
   "source": [
    "price = calendar_df.groupby('listing_id').mean()['price'].reset_index()\n",
    "\n",
    "fig,ax = plt.subplots(nrows=1, sharex=True,figsize=(8, 3))\n",
    "price['price'][price['price'].between(10, 400)].hist(bins=50)\n",
    "plt.ylabel('Number of objects')\n",
    "plt.xlabel('Price of available objects')\n",
    "plt.title('Number of object vs. price of objects');"
   ]
  },
  {
   "cell_type": "code",
   "execution_count": null,
   "metadata": {},
   "outputs": [],
   "source": [
    "# converting the price value in the listings dataframe to float number\n",
    "listings_df['price'] = listings_df['price'].apply(lambda x: float(str(x).replace('$', '').replace(',', '')))\n",
    "listings_df['instant_bookable'].replace('t', True, inplace=True)\n",
    "listings_df['instant_bookable'].replace('f', False, inplace=True)\n",
    "listings_df['instant_bookable'].replace('t', True, inplace=True)\n",
    "\n",
    "listings_df.head(5)"
   ]
  },
  {
   "cell_type": "code",
   "execution_count": null,
   "metadata": {},
   "outputs": [],
   "source": [
    "reviews_df.head(5)"
   ]
  },
  {
   "cell_type": "code",
   "execution_count": null,
   "metadata": {},
   "outputs": [],
   "source": [
    "print('The average number available objects',\"{:,.2f}\".format(100*calendar_df['available'].mean()),'%')\n",
    "\n",
    "fig,ax = plt.subplots(nrows=1, sharex=True,figsize=(8, 3))\n",
    "calendar_df.groupby('listing_id').mean()['available'].hist(bins=20)\n",
    "plt.ylabel('Number of objects')\n",
    "plt.xlabel('Average number of available objects')\n",
    "plt.title('Number of object vs. ratio of available objects');"
   ]
  },
  {
   "cell_type": "code",
   "execution_count": null,
   "metadata": {},
   "outputs": [],
   "source": [
    "rooms_count = listings_df.groupby('id').mean()['bedrooms'].reset_index()\n",
    "\n",
    "fig,ax = plt.subplots(nrows=1, sharex=True,figsize=(8, 3))\n",
    "rooms_count['bedrooms'][rooms_count['bedrooms'].between(0,5)].hist(bins=10)\n",
    "plt.ylabel('Count of objects')\n",
    "plt.xlabel('Number of rooms in object')\n",
    "plt.title('Number of objects vs. number of rooms in object');"
   ]
  },
  {
   "cell_type": "code",
   "execution_count": null,
   "metadata": {},
   "outputs": [],
   "source": [
    "beds_count = listings_df.groupby('id').mean()['beds'].reset_index()\n",
    "\n",
    "fig,ax = plt.subplots(nrows=1, sharex=True,figsize=(8, 3))\n",
    "beds_count['beds'][beds_count['beds'] < 10].hist(bins=10)\n",
    "plt.xlabel('Number of beds in object')\n",
    "plt.ylabel('Number of objects')\n",
    "plt.title('Number of objects vs. number of beds in object');"
   ]
  },
  {
   "cell_type": "code",
   "execution_count": null,
   "metadata": {},
   "outputs": [],
   "source": [
    "# comments_count = listings_df.groupby('id').mean()['reviews_per_month'].reset_index()\n",
    "\n",
    "# fig,ax = plt.subplots(nrows=1, sharex=True,figsize=(8, 3))\n",
    "# comments_count['reviews_per_month'][comments_count['reviews_per_month'] < 10].hist(bins=10)\n",
    "# plt.xlabel('Number of reviews per month in object')\n",
    "# plt.ylabel('Number of objects')\n",
    "# plt.title('Number of reviews per objects vs. number of reviews per month in object');"
   ]
  },
  {
   "cell_type": "code",
   "execution_count": null,
   "metadata": {},
   "outputs": [],
   "source": [
    "reviews_per_month = listings_df.groupby('id').mean()['reviews_per_month'].reset_index()\n",
    "fig,ax = plt.subplots(nrows=1, sharex=True,figsize=(8, 3))\n",
    "reviews_per_month['reviews_per_month'][reviews_per_month['reviews_per_month'].between(1,5)].hist(bins=5)\n",
    "\n",
    "plt.xlabel('Number of reviews')\n",
    "plt.ylabel('Number of objects')\n",
    "plt.title('Number of reviews per objects');"
   ]
  },
  {
   "cell_type": "code",
   "execution_count": null,
   "metadata": {},
   "outputs": [],
   "source": [
    "reviews_per_month['id'].nunique()"
   ]
  },
  {
   "cell_type": "code",
   "execution_count": null,
   "metadata": {},
   "outputs": [],
   "source": [
    "review_score_rating = listings_df.groupby('id').mean()['review_scores_rating'].reset_index()\n",
    "fig,ax = plt.subplots(nrows=1, sharex=True,figsize=(8, 3))\n",
    "review_score_rating['review_scores_rating'][review_score_rating['review_scores_rating'] < 5].hist(bins=25)\n",
    "plt.xlabel('Review score rating')\n",
    "plt.ylabel('Number of objects')\n",
    "plt.title('Review score rating');"
   ]
  },
  {
   "cell_type": "code",
   "execution_count": null,
   "metadata": {},
   "outputs": [],
   "source": [
    "from sklearn.model_selection import train_test_split\n",
    "from sklearn.metrics import r2_score, mean_squared_error\n",
    "from time import time\n",
    "from sklearn.pipeline import make_pipeline\n",
    "from sklearn.preprocessing import QuantileTransformer\n",
    "from sklearn.neural_network import MLPRegressor\n",
    "\n",
    "# dataframe with rows for nan are removed\n",
    "listings_df = listings_df.dropna(subset=['bedrooms'], axis=0)[listings_df['bedrooms'] > 0]\\\n",
    "    [listings_df['beds'] > 0][listings_df['review_scores_rating'] > 0]\n",
    "\n",
    "X = listings_df[['beds','bedrooms','review_scores_rating']]\n",
    "Y = listings_df['price']\n",
    "\n",
    "print(\"Training MLPRegressor...\")\n",
    "tic = time()\n",
    "# Split data into training and test data, and fit a linear model\n",
    "X_train, X_test, Y_train, Y_test = train_test_split(X, Y , test_size=.10)\n",
    "model = make_pipeline(QuantileTransformer(), MLPRegressor(hidden_layer_sizes=(100,100,100), \n",
    "                                                          learning_rate_init=0.01, \n",
    "                                                          early_stopping=True,\n",
    "                                                          max_iter=100000,\n",
    "                                                          tol=0.0001,\n",
    "                                                          epsilon=1e-08),\n",
    ")\n",
    "\n",
    "# If our model works, it should just fit our model to the data. Otherwise, it will let us know.\n",
    "model.fit(X_train, Y_train)    \n",
    "print(f\"done in {time() - tic:.3f}s\")\n",
    "    \n",
    "Y_test_preds = model.predict(X_test)  # Predictions here\n",
    "\n",
    "# calculate rsquared and mse\n",
    "rsquared_train = model.score(X_train, Y_train)\n",
    "rsquared_test = model.score(X_test, Y_test)\n",
    "# print(rsquared)\n",
    "print('Test R2 score of training dataset',\"{:,.2f}\".format(100*rsquared_train),'%')\n",
    "print('Test R2 score of testing dataset',\"{:,.2f}\".format(100*rsquared_test),'%')\n"
   ]
  },
  {
   "cell_type": "code",
   "execution_count": null,
   "metadata": {},
   "outputs": [],
   "source": [
    "listings_df.info()"
   ]
  }
 ],
 "metadata": {
  "kernelspec": {
   "display_name": "Python 3.10.3 64-bit",
   "language": "python",
   "name": "python3"
  },
  "language_info": {
   "codemirror_mode": {
    "name": "ipython",
    "version": 3
   },
   "file_extension": ".py",
   "mimetype": "text/x-python",
   "name": "python",
   "nbconvert_exporter": "python",
   "pygments_lexer": "ipython3",
   "version": "3.10.3"
  },
  "orig_nbformat": 4,
  "vscode": {
   "interpreter": {
    "hash": "aee8b7b246df8f9039afb4144a1f6fd8d2ca17a180786b69acc140d282b71a49"
   }
  }
 },
 "nbformat": 4,
 "nbformat_minor": 2
}
