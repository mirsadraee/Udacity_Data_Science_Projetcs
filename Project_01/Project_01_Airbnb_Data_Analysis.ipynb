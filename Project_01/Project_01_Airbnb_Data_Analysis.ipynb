{
 "cells": [
  {
   "cell_type": "markdown",
   "metadata": {},
   "source": [
    "# A short analysis of Airbnb apartments in Munich, Germany\n",
    "For most of the people who heard about Airbnb, it is interesting to enter this market and become competitive with others. One can start investigating the main parameters of an object and for which objects one may pay less or more. In this study, the Airbnb data of Munich city from kaggle.com was used. In this post, an investigation of some features of objects in Munich city, Germany was done.\n",
    "\n",
    "### Section 1: Business Understanding\n",
    "So let us take a look into the data and try to answer following questions:\n",
    "1. How many objects are available in Munich and what is the price margin for an object in Munich city?\n",
    "- For this question we need the columns of available and price in the calendar dataset. However, the data are not readable as float and boolean. So a preprocessing of data is needed.\n",
    "2. What is number of beds, bedrooms for objects?\n",
    "- In lisiting dataset the needed columns are available, by a histogram plot the results can help in understanding the solution.\n",
    "3. How are the objects reviewed or rated?\n",
    "- In lisiting dataset the needed columns are available, by a histogram plot the results can help in understanding the solution.\n",
    "4. Is it possible to predict the price of an object based on number of beds, bedrooms, review score rating?\n",
    "- A regressor can be made using scikitlearn and train a neural network model to predict the price of object based on some features.\n",
    "\n",
    "### Loading specific modules/libraries for processing data\n",
    "The data will be used for investigation objects situation in Munich City, Germany. Some libraries of python will be imported in order to process the data."
   ]
  },
  {
   "cell_type": "markdown",
   "metadata": {},
   "source": [
    "Section 1: Business Understanding\n",
    "Section 2: Data Understanding\n",
    "Section 3: Data Preparation\n",
    "Section 4: Data Modeling (Optional)\n",
    "Section 5: Evaluate the Results"
   ]
  },
  {
   "cell_type": "code",
   "execution_count": 1,
   "metadata": {},
   "outputs": [],
   "source": [
    "# Importing Modules for data processing\n",
    "import pandas as pd\n",
    "import matplotlib.pyplot as plt\n",
    "import seaborn as sns\n",
    "sns.set_style('darkgrid')\n",
    "\n",
    "%matplotlib inline"
   ]
  },
  {
   "cell_type": "markdown",
   "metadata": {},
   "source": [
    "### Section 2: Data Understanding\n",
    "The csv data are read to different pandas dataframes to be used later."
   ]
  },
  {
   "cell_type": "code",
   "execution_count": 2,
   "metadata": {},
   "outputs": [
    {
     "name": "stdout",
     "output_type": "stream",
     "text": [
      "calendar_df has       1,774,265  rows and    7  columns.\n",
      "listings_df has           4,861  rows and   74  columns.\n",
      "reviews_df has          119,722  rows and    6  columns.\n"
     ]
    }
   ],
   "source": [
    "# Set the path of dataframes\n",
    "data_path = r'./Munich/' \n",
    "\n",
    "# loading the dataframes\n",
    "calendar_df = pd.read_csv(data_path + 'calendar.csv')\n",
    "listings_df = pd.read_csv(data_path + 'listings.csv')\n",
    "reviews_df  = pd.read_csv(data_path + 'reviews.csv')\n",
    "\n",
    "# size of dataframes\n",
    "print(\"{:<20} {:>10} {:<5} {:>3} {:>5}\".format('calendar_df has',\"{:,.0f}\".format(calendar_df.shape[0]),' rows and ',\"{:,.0f}\".format(calendar_df.shape[1]),' columns.'))\n",
    "print(\"{:<20} {:>10} {:<5} {:>3} {:>5}\".format('listings_df has',\"{:,.0f}\".format(listings_df.shape[0]),' rows and ',\"{:,.0f}\".format(listings_df.shape[1]),' columns.'))\n",
    "print(\"{:<20} {:>10} {:<5} {:>3} {:>5}\".format('reviews_df has',\"{:,.0f}\".format(reviews_df.shape[0]),' rows and ',\"{:,.0f}\".format(reviews_df.shape[1]),' columns.'))"
   ]
  },
  {
   "cell_type": "markdown",
   "metadata": {},
   "source": [
    "### Section 3: Data Preparation\n",
    "The data in calendar dataframe are not proper for direct usage so they are converted to desired float or boolean formats."
   ]
  },
  {
   "cell_type": "code",
   "execution_count": 3,
   "metadata": {},
   "outputs": [],
   "source": [
    "# Converting strings in the dataframe to floats and booleans\n",
    "# converting the price in calendar dataframe to float numbers in the dataframe\n",
    "calendar_df['price'] = calendar_df['price'].apply(lambda x: float(str(x).replace('$', '').replace(',', '')))\n",
    "\n",
    "# converting the string available to a boolean value in the dataframe\n",
    "calendar_df['available'].replace('f', False, inplace=True)\n",
    "calendar_df['available'].replace('t', True, inplace=True)"
   ]
  },
  {
   "cell_type": "code",
   "execution_count": 4,
   "metadata": {},
   "outputs": [
    {
     "data": {
      "text/html": [
       "<div>\n",
       "<style scoped>\n",
       "    .dataframe tbody tr th:only-of-type {\n",
       "        vertical-align: middle;\n",
       "    }\n",
       "\n",
       "    .dataframe tbody tr th {\n",
       "        vertical-align: top;\n",
       "    }\n",
       "\n",
       "    .dataframe thead th {\n",
       "        text-align: right;\n",
       "    }\n",
       "</style>\n",
       "<table border=\"1\" class=\"dataframe\">\n",
       "  <thead>\n",
       "    <tr style=\"text-align: right;\">\n",
       "      <th></th>\n",
       "      <th>listing_id</th>\n",
       "      <th>date</th>\n",
       "      <th>available</th>\n",
       "      <th>price</th>\n",
       "      <th>adjusted_price</th>\n",
       "      <th>minimum_nights</th>\n",
       "      <th>maximum_nights</th>\n",
       "    </tr>\n",
       "  </thead>\n",
       "  <tbody>\n",
       "    <tr>\n",
       "      <th>0</th>\n",
       "      <td>97945</td>\n",
       "      <td>2022-06-21</td>\n",
       "      <td>False</td>\n",
       "      <td>80.0</td>\n",
       "      <td>$80.00</td>\n",
       "      <td>2</td>\n",
       "      <td>90</td>\n",
       "    </tr>\n",
       "    <tr>\n",
       "      <th>1</th>\n",
       "      <td>97945</td>\n",
       "      <td>2022-06-22</td>\n",
       "      <td>False</td>\n",
       "      <td>80.0</td>\n",
       "      <td>$80.00</td>\n",
       "      <td>2</td>\n",
       "      <td>90</td>\n",
       "    </tr>\n",
       "    <tr>\n",
       "      <th>2</th>\n",
       "      <td>97945</td>\n",
       "      <td>2022-06-23</td>\n",
       "      <td>False</td>\n",
       "      <td>80.0</td>\n",
       "      <td>$80.00</td>\n",
       "      <td>2</td>\n",
       "      <td>90</td>\n",
       "    </tr>\n",
       "    <tr>\n",
       "      <th>3</th>\n",
       "      <td>97945</td>\n",
       "      <td>2022-06-24</td>\n",
       "      <td>False</td>\n",
       "      <td>80.0</td>\n",
       "      <td>$80.00</td>\n",
       "      <td>2</td>\n",
       "      <td>90</td>\n",
       "    </tr>\n",
       "    <tr>\n",
       "      <th>4</th>\n",
       "      <td>97945</td>\n",
       "      <td>2022-06-25</td>\n",
       "      <td>False</td>\n",
       "      <td>80.0</td>\n",
       "      <td>$80.00</td>\n",
       "      <td>2</td>\n",
       "      <td>90</td>\n",
       "    </tr>\n",
       "  </tbody>\n",
       "</table>\n",
       "</div>"
      ],
      "text/plain": [
       "   listing_id        date  available  price adjusted_price  minimum_nights  \\\n",
       "0       97945  2022-06-21      False   80.0         $80.00               2   \n",
       "1       97945  2022-06-22      False   80.0         $80.00               2   \n",
       "2       97945  2022-06-23      False   80.0         $80.00               2   \n",
       "3       97945  2022-06-24      False   80.0         $80.00               2   \n",
       "4       97945  2022-06-25      False   80.0         $80.00               2   \n",
       "\n",
       "   maximum_nights  \n",
       "0              90  \n",
       "1              90  \n",
       "2              90  \n",
       "3              90  \n",
       "4              90  "
      ]
     },
     "execution_count": 4,
     "metadata": {},
     "output_type": "execute_result"
    }
   ],
   "source": [
    "calendar_df.head(5)"
   ]
  },
  {
   "cell_type": "code",
   "execution_count": 5,
   "metadata": {},
   "outputs": [
    {
     "data": {
      "text/html": [
       "<div>\n",
       "<style scoped>\n",
       "    .dataframe tbody tr th:only-of-type {\n",
       "        vertical-align: middle;\n",
       "    }\n",
       "\n",
       "    .dataframe tbody tr th {\n",
       "        vertical-align: top;\n",
       "    }\n",
       "\n",
       "    .dataframe thead th {\n",
       "        text-align: right;\n",
       "    }\n",
       "</style>\n",
       "<table border=\"1\" class=\"dataframe\">\n",
       "  <thead>\n",
       "    <tr style=\"text-align: right;\">\n",
       "      <th></th>\n",
       "      <th>id</th>\n",
       "      <th>listing_url</th>\n",
       "      <th>scrape_id</th>\n",
       "      <th>last_scraped</th>\n",
       "      <th>name</th>\n",
       "      <th>description</th>\n",
       "      <th>neighborhood_overview</th>\n",
       "      <th>picture_url</th>\n",
       "      <th>host_id</th>\n",
       "      <th>host_url</th>\n",
       "      <th>...</th>\n",
       "      <th>review_scores_communication</th>\n",
       "      <th>review_scores_location</th>\n",
       "      <th>review_scores_value</th>\n",
       "      <th>license</th>\n",
       "      <th>instant_bookable</th>\n",
       "      <th>calculated_host_listings_count</th>\n",
       "      <th>calculated_host_listings_count_entire_homes</th>\n",
       "      <th>calculated_host_listings_count_private_rooms</th>\n",
       "      <th>calculated_host_listings_count_shared_rooms</th>\n",
       "      <th>reviews_per_month</th>\n",
       "    </tr>\n",
       "  </thead>\n",
       "  <tbody>\n",
       "    <tr>\n",
       "      <th>0</th>\n",
       "      <td>97945</td>\n",
       "      <td>https://www.airbnb.com/rooms/97945</td>\n",
       "      <td>20220621060613</td>\n",
       "      <td>2022-06-21</td>\n",
       "      <td>Deluxw-Apartm. with roof terrace</td>\n",
       "      <td>&lt;b&gt;The space&lt;/b&gt;&lt;br /&gt;We offer a modern, quiet...</td>\n",
       "      <td>We are living in a outskirt of Munich its call...</td>\n",
       "      <td>https://a0.muscache.com/pictures/2459996/10b4c...</td>\n",
       "      <td>517685</td>\n",
       "      <td>https://www.airbnb.com/users/show/517685</td>\n",
       "      <td>...</td>\n",
       "      <td>4.93</td>\n",
       "      <td>4.78</td>\n",
       "      <td>4.73</td>\n",
       "      <td>NaN</td>\n",
       "      <td>False</td>\n",
       "      <td>2</td>\n",
       "      <td>2</td>\n",
       "      <td>0</td>\n",
       "      <td>0</td>\n",
       "      <td>0.99</td>\n",
       "    </tr>\n",
       "    <tr>\n",
       "      <th>1</th>\n",
       "      <td>114695</td>\n",
       "      <td>https://www.airbnb.com/rooms/114695</td>\n",
       "      <td>20220621060613</td>\n",
       "      <td>2022-06-21</td>\n",
       "      <td>Apartment Munich/East with sundeck</td>\n",
       "      <td>&lt;b&gt;The space&lt;/b&gt;&lt;br /&gt;It´s a quiet and sunny a...</td>\n",
       "      <td>NaN</td>\n",
       "      <td>https://a0.muscache.com/pictures/21571874/960e...</td>\n",
       "      <td>581737</td>\n",
       "      <td>https://www.airbnb.com/users/show/581737</td>\n",
       "      <td>...</td>\n",
       "      <td>5.00</td>\n",
       "      <td>4.56</td>\n",
       "      <td>4.59</td>\n",
       "      <td>NaN</td>\n",
       "      <td>False</td>\n",
       "      <td>2</td>\n",
       "      <td>2</td>\n",
       "      <td>0</td>\n",
       "      <td>0</td>\n",
       "      <td>0.40</td>\n",
       "    </tr>\n",
       "    <tr>\n",
       "      <th>2</th>\n",
       "      <td>127383</td>\n",
       "      <td>https://www.airbnb.com/rooms/127383</td>\n",
       "      <td>20220621060613</td>\n",
       "      <td>2022-06-21</td>\n",
       "      <td>City apartment next to Pinakothek</td>\n",
       "      <td>&lt;b&gt;The space&lt;/b&gt;&lt;br /&gt;My cosy apartment is loc...</td>\n",
       "      <td>NaN</td>\n",
       "      <td>https://a0.muscache.com/pictures/79238c11-bc61...</td>\n",
       "      <td>630556</td>\n",
       "      <td>https://www.airbnb.com/users/show/630556</td>\n",
       "      <td>...</td>\n",
       "      <td>4.96</td>\n",
       "      <td>4.91</td>\n",
       "      <td>4.81</td>\n",
       "      <td>NaN</td>\n",
       "      <td>False</td>\n",
       "      <td>1</td>\n",
       "      <td>1</td>\n",
       "      <td>0</td>\n",
       "      <td>0</td>\n",
       "      <td>0.79</td>\n",
       "    </tr>\n",
       "    <tr>\n",
       "      <th>3</th>\n",
       "      <td>159634</td>\n",
       "      <td>https://www.airbnb.com/rooms/159634</td>\n",
       "      <td>20220621060613</td>\n",
       "      <td>2022-06-21</td>\n",
       "      <td>Fancy, bright central roof top flat and homeof...</td>\n",
       "      <td>In this idyllic stylish flat you live very qui...</td>\n",
       "      <td>Very quiet, green, squirrels and beergardens a...</td>\n",
       "      <td>https://a0.muscache.com/pictures/4203267/08141...</td>\n",
       "      <td>765694</td>\n",
       "      <td>https://www.airbnb.com/users/show/765694</td>\n",
       "      <td>...</td>\n",
       "      <td>4.75</td>\n",
       "      <td>4.50</td>\n",
       "      <td>4.34</td>\n",
       "      <td>NaN</td>\n",
       "      <td>True</td>\n",
       "      <td>1</td>\n",
       "      <td>1</td>\n",
       "      <td>0</td>\n",
       "      <td>0</td>\n",
       "      <td>0.26</td>\n",
       "    </tr>\n",
       "    <tr>\n",
       "      <th>4</th>\n",
       "      <td>170154</td>\n",
       "      <td>https://www.airbnb.com/rooms/170154</td>\n",
       "      <td>20220621060613</td>\n",
       "      <td>2022-06-21</td>\n",
       "      <td>Own floor &amp; bath, parking &amp; breakfast</td>\n",
       "      <td>Enjoy a quiet neighbourhood, easy access to th...</td>\n",
       "      <td>NaN</td>\n",
       "      <td>https://a0.muscache.com/pictures/31636890/593e...</td>\n",
       "      <td>108297</td>\n",
       "      <td>https://www.airbnb.com/users/show/108297</td>\n",
       "      <td>...</td>\n",
       "      <td>4.98</td>\n",
       "      <td>4.76</td>\n",
       "      <td>4.90</td>\n",
       "      <td>NaN</td>\n",
       "      <td>False</td>\n",
       "      <td>1</td>\n",
       "      <td>0</td>\n",
       "      <td>1</td>\n",
       "      <td>0</td>\n",
       "      <td>3.89</td>\n",
       "    </tr>\n",
       "  </tbody>\n",
       "</table>\n",
       "<p>5 rows × 74 columns</p>\n",
       "</div>"
      ],
      "text/plain": [
       "       id                          listing_url       scrape_id last_scraped  \\\n",
       "0   97945   https://www.airbnb.com/rooms/97945  20220621060613   2022-06-21   \n",
       "1  114695  https://www.airbnb.com/rooms/114695  20220621060613   2022-06-21   \n",
       "2  127383  https://www.airbnb.com/rooms/127383  20220621060613   2022-06-21   \n",
       "3  159634  https://www.airbnb.com/rooms/159634  20220621060613   2022-06-21   \n",
       "4  170154  https://www.airbnb.com/rooms/170154  20220621060613   2022-06-21   \n",
       "\n",
       "                                                name  \\\n",
       "0                   Deluxw-Apartm. with roof terrace   \n",
       "1                 Apartment Munich/East with sundeck   \n",
       "2                  City apartment next to Pinakothek   \n",
       "3  Fancy, bright central roof top flat and homeof...   \n",
       "4              Own floor & bath, parking & breakfast   \n",
       "\n",
       "                                         description  \\\n",
       "0  <b>The space</b><br />We offer a modern, quiet...   \n",
       "1  <b>The space</b><br />It´s a quiet and sunny a...   \n",
       "2  <b>The space</b><br />My cosy apartment is loc...   \n",
       "3  In this idyllic stylish flat you live very qui...   \n",
       "4  Enjoy a quiet neighbourhood, easy access to th...   \n",
       "\n",
       "                               neighborhood_overview  \\\n",
       "0  We are living in a outskirt of Munich its call...   \n",
       "1                                                NaN   \n",
       "2                                                NaN   \n",
       "3  Very quiet, green, squirrels and beergardens a...   \n",
       "4                                                NaN   \n",
       "\n",
       "                                         picture_url  host_id  \\\n",
       "0  https://a0.muscache.com/pictures/2459996/10b4c...   517685   \n",
       "1  https://a0.muscache.com/pictures/21571874/960e...   581737   \n",
       "2  https://a0.muscache.com/pictures/79238c11-bc61...   630556   \n",
       "3  https://a0.muscache.com/pictures/4203267/08141...   765694   \n",
       "4  https://a0.muscache.com/pictures/31636890/593e...   108297   \n",
       "\n",
       "                                   host_url  ... review_scores_communication  \\\n",
       "0  https://www.airbnb.com/users/show/517685  ...                        4.93   \n",
       "1  https://www.airbnb.com/users/show/581737  ...                        5.00   \n",
       "2  https://www.airbnb.com/users/show/630556  ...                        4.96   \n",
       "3  https://www.airbnb.com/users/show/765694  ...                        4.75   \n",
       "4  https://www.airbnb.com/users/show/108297  ...                        4.98   \n",
       "\n",
       "  review_scores_location review_scores_value license instant_bookable  \\\n",
       "0                   4.78                4.73     NaN            False   \n",
       "1                   4.56                4.59     NaN            False   \n",
       "2                   4.91                4.81     NaN            False   \n",
       "3                   4.50                4.34     NaN             True   \n",
       "4                   4.76                4.90     NaN            False   \n",
       "\n",
       "  calculated_host_listings_count calculated_host_listings_count_entire_homes  \\\n",
       "0                              2                                           2   \n",
       "1                              2                                           2   \n",
       "2                              1                                           1   \n",
       "3                              1                                           1   \n",
       "4                              1                                           0   \n",
       "\n",
       "  calculated_host_listings_count_private_rooms  \\\n",
       "0                                            0   \n",
       "1                                            0   \n",
       "2                                            0   \n",
       "3                                            0   \n",
       "4                                            1   \n",
       "\n",
       "  calculated_host_listings_count_shared_rooms reviews_per_month  \n",
       "0                                           0              0.99  \n",
       "1                                           0              0.40  \n",
       "2                                           0              0.79  \n",
       "3                                           0              0.26  \n",
       "4                                           0              3.89  \n",
       "\n",
       "[5 rows x 74 columns]"
      ]
     },
     "execution_count": 5,
     "metadata": {},
     "output_type": "execute_result"
    }
   ],
   "source": [
    "# converting the price value in the listings dataframe to float number\n",
    "listings_df['price'] = listings_df['price'].apply(lambda x: float(str(x).replace('$', '').replace(',', '')))\n",
    "listings_df['instant_bookable'].replace('t', True, inplace=True)\n",
    "listings_df['instant_bookable'].replace('f', False, inplace=True)\n",
    "listings_df['instant_bookable'].replace('t', True, inplace=True)\n",
    "\n",
    "listings_df.head(5)"
   ]
  },
  {
   "cell_type": "markdown",
   "metadata": {},
   "source": [
    "### Section 4: Evaluate the Results\n",
    "\n",
    "#### Question 1: How many objects are available in Munich and what is the price margin for an object in Munich city?\n",
    "\n",
    "From the calendar dataset, it can be obsereved how many objects are available. The unique number of objects in Munich in the dataset is 4861. The span of price in the dataset is from 0$ to 10800$. Most probably those objects with 0$ price should be investigated separately. The average price of the object is around 146$. Removing the outlier objects with prices over 400$ and cheaper than 10$ results in 4738 objects with average price of 108$ for in Munich. The distribution of object price without outlier object can be seen in following Figure 1.\n"
   ]
  },
  {
   "cell_type": "code",
   "execution_count": 6,
   "metadata": {},
   "outputs": [
    {
     "name": "stdout",
     "output_type": "stream",
     "text": [
      "The number of objects in calendar dataframe is 4,861\n"
     ]
    }
   ],
   "source": [
    "# Calculating the unique number of objects in the calendar dataframe\n",
    "print('The number of objects in calendar dataframe is',\n",
    "      \"{:,.0f}\".format(calendar_df['listing_id'].nunique()))"
   ]
  },
  {
   "cell_type": "code",
   "execution_count": 7,
   "metadata": {},
   "outputs": [
    {
     "name": "stdout",
     "output_type": "stream",
     "text": [
      "The maximum price of objects is 10,800.00 $\n",
      "The minimum price of objects is 0.00 $\n",
      "The average price of objects is 146.39 $\n",
      "The maximum price of objects is 108.84 $\n"
     ]
    }
   ],
   "source": [
    "print('The maximum price of objects is',\"{:,.2f}\".format(calendar_df['price'].max()),'$')\n",
    "print('The minimum price of objects is',\"{:,.2f}\".format(calendar_df['price'].min()),'$')\n",
    "print('The average price of objects is',\"{:,.2f}\".format(calendar_df['price'].mean()),'$')\n",
    "print('The maximum price of objects is',\"{:,.2f}\".format(calendar_df['price'][calendar_df['price'].between(10, 400)].mean()),'$')"
   ]
  },
  {
   "cell_type": "code",
   "execution_count": 8,
   "metadata": {},
   "outputs": [
    {
     "name": "stdout",
     "output_type": "stream",
     "text": [
      "The number of objects without ouliers in the calendar dataframe is 4,738\n"
     ]
    }
   ],
   "source": [
    "print('The number of objects without ouliers in the calendar dataframe is',\n",
    "      \"{:,.0f}\".format(calendar_df['listing_id'][calendar_df['price'].between(10, 400)].nunique()))"
   ]
  },
  {
   "cell_type": "code",
   "execution_count": 9,
   "metadata": {},
   "outputs": [
    {
     "data": {
      "image/png": "[encoded data removed]",
      "text/plain": [
       "<Figure size 576x216 with 1 Axes>"
      ]
     },
     "metadata": {
      "needs_background": "light"
     },
     "output_type": "display_data"
    }
   ],
   "source": [
    "price = calendar_df.groupby('listing_id').mean()['price'].reset_index()\n",
    "\n",
    "fig,ax = plt.subplots(nrows=1, sharex=True,figsize=(8, 3))\n",
    "price['price'][price['price'].between(10, 400)].hist(bins=50)\n",
    "plt.ylabel('Number of objects')\n",
    "plt.xlabel('Price of available objects')\n",
    "plt.title('Number of object vs. price of objects');"
   ]
  },
  {
   "cell_type": "code",
   "execution_count": 10,
   "metadata": {},
   "outputs": [
    {
     "data": {
      "text/html": [
       "<div>\n",
       "<style scoped>\n",
       "    .dataframe tbody tr th:only-of-type {\n",
       "        vertical-align: middle;\n",
       "    }\n",
       "\n",
       "    .dataframe tbody tr th {\n",
       "        vertical-align: top;\n",
       "    }\n",
       "\n",
       "    .dataframe thead th {\n",
       "        text-align: right;\n",
       "    }\n",
       "</style>\n",
       "<table border=\"1\" class=\"dataframe\">\n",
       "  <thead>\n",
       "    <tr style=\"text-align: right;\">\n",
       "      <th></th>\n",
       "      <th>listing_id</th>\n",
       "      <th>id</th>\n",
       "      <th>date</th>\n",
       "      <th>reviewer_id</th>\n",
       "      <th>reviewer_name</th>\n",
       "      <th>comments</th>\n",
       "    </tr>\n",
       "  </thead>\n",
       "  <tbody>\n",
       "    <tr>\n",
       "      <th>0</th>\n",
       "      <td>97945</td>\n",
       "      <td>591337</td>\n",
       "      <td>2011-10-03</td>\n",
       "      <td>508190</td>\n",
       "      <td>Lauren</td>\n",
       "      <td>We very much enjoyed staying at Angelika's apa...</td>\n",
       "    </tr>\n",
       "    <tr>\n",
       "      <th>1</th>\n",
       "      <td>97945</td>\n",
       "      <td>796084</td>\n",
       "      <td>2011-12-20</td>\n",
       "      <td>341171</td>\n",
       "      <td>Marty &amp; Evelyn</td>\n",
       "      <td>Angelika was a very gracious host, and went ou...</td>\n",
       "    </tr>\n",
       "    <tr>\n",
       "      <th>2</th>\n",
       "      <td>97945</td>\n",
       "      <td>964528</td>\n",
       "      <td>2012-03-02</td>\n",
       "      <td>1647967</td>\n",
       "      <td>Sue</td>\n",
       "      <td>The apartment was beautiful and Angelika provi...</td>\n",
       "    </tr>\n",
       "    <tr>\n",
       "      <th>3</th>\n",
       "      <td>97945</td>\n",
       "      <td>1353862</td>\n",
       "      <td>2012-05-26</td>\n",
       "      <td>2414638</td>\n",
       "      <td>Mel And George</td>\n",
       "      <td>We loved the warm welcome and was pleasantly s...</td>\n",
       "    </tr>\n",
       "    <tr>\n",
       "      <th>4</th>\n",
       "      <td>97945</td>\n",
       "      <td>1375610</td>\n",
       "      <td>2012-05-29</td>\n",
       "      <td>2323197</td>\n",
       "      <td>Anais</td>\n",
       "      <td>Dès notre arrivée, notre hote nous a cordialem...</td>\n",
       "    </tr>\n",
       "  </tbody>\n",
       "</table>\n",
       "</div>"
      ],
      "text/plain": [
       "   listing_id       id        date  reviewer_id   reviewer_name  \\\n",
       "0       97945   591337  2011-10-03       508190          Lauren   \n",
       "1       97945   796084  2011-12-20       341171  Marty & Evelyn   \n",
       "2       97945   964528  2012-03-02      1647967             Sue   \n",
       "3       97945  1353862  2012-05-26      2414638  Mel And George   \n",
       "4       97945  1375610  2012-05-29      2323197           Anais   \n",
       "\n",
       "                                            comments  \n",
       "0  We very much enjoyed staying at Angelika's apa...  \n",
       "1  Angelika was a very gracious host, and went ou...  \n",
       "2  The apartment was beautiful and Angelika provi...  \n",
       "3  We loved the warm welcome and was pleasantly s...  \n",
       "4  Dès notre arrivée, notre hote nous a cordialem...  "
      ]
     },
     "execution_count": 10,
     "metadata": {},
     "output_type": "execute_result"
    }
   ],
   "source": [
    "reviews_df.head(5)"
   ]
  },
  {
   "cell_type": "code",
   "execution_count": 11,
   "metadata": {},
   "outputs": [
    {
     "name": "stdout",
     "output_type": "stream",
     "text": [
      "The average number available objects 30.99 %\n"
     ]
    },
    {
     "data": {
      "image/png": "[encoded data removed]",
      "text/plain": [
       "<Figure size 576x216 with 1 Axes>"
      ]
     },
     "metadata": {
      "needs_background": "light"
     },
     "output_type": "display_data"
    }
   ],
   "source": [
    "print('The average number available objects',\"{:,.2f}\".format(100*calendar_df['available'].mean()),'%')\n",
    "\n",
    "fig,ax = plt.subplots(nrows=1, sharex=True,figsize=(8, 3))\n",
    "calendar_df.groupby('listing_id').mean()['available'].hist(bins=20)\n",
    "plt.ylabel('Number of objects')\n",
    "plt.xlabel('Average number of available objects')\n",
    "plt.title('Number of object vs. ratio of available objects');"
   ]
  },
  {
   "cell_type": "markdown",
   "metadata": {},
   "source": [
    "#### Question 2: What is number of beds, bedrooms for objects?\n",
    "By a short look at the data it can be seen that most of the objects only have just one bedroom. Approximately more than 80% of the objects only have just one room.\n"
   ]
  },
  {
   "cell_type": "code",
   "execution_count": 12,
   "metadata": {},
   "outputs": [
    {
     "data": {
      "image/png": "[encoded data removed]",
      "text/plain": [
       "<Figure size 576x216 with 1 Axes>"
      ]
     },
     "metadata": {
      "needs_background": "light"
     },
     "output_type": "display_data"
    }
   ],
   "source": [
    "rooms_count = listings_df.groupby('id').mean()['bedrooms'].reset_index()\n",
    "\n",
    "fig,ax = plt.subplots(nrows=1, sharex=True,figsize=(8, 3))\n",
    "rooms_count['bedrooms'][rooms_count['bedrooms'].between(0,5)].hist(bins=10)\n",
    "plt.ylabel('Count of objects')\n",
    "plt.xlabel('Number of rooms in object')\n",
    "plt.title('Number of objects vs. number of rooms in object');"
   ]
  },
  {
   "cell_type": "markdown",
   "metadata": {},
   "source": [
    "This however does not mean that there is only one bed available in the object. Although most of the object again has just one bed but the portion of the object with more than one bed is considerable."
   ]
  },
  {
   "cell_type": "code",
   "execution_count": 13,
   "metadata": {},
   "outputs": [
    {
     "data": {
      "image/png": "[encoded data removed]",
      "text/plain": [
       "<Figure size 576x216 with 1 Axes>"
      ]
     },
     "metadata": {
      "needs_background": "light"
     },
     "output_type": "display_data"
    }
   ],
   "source": [
    "beds_count = listings_df.groupby('id').mean()['beds'].reset_index()\n",
    "\n",
    "fig,ax = plt.subplots(nrows=1, sharex=True,figsize=(8, 3))\n",
    "beds_count['beds'][beds_count['beds'] < 10].hist(bins=10)\n",
    "plt.xlabel('Number of beds in object')\n",
    "plt.ylabel('Number of objects')\n",
    "plt.title('Number of objects vs. number of beds in object');"
   ]
  },
  {
   "cell_type": "markdown",
   "metadata": {},
   "source": [
    "#### Question 3: How are the objects reviewed or rated?\n",
    "For most of the objects in the dataset, there is no review available, see Figure below. This could make it very hard to use this feature for the quality/price analysis of these objects. \n"
   ]
  },
  {
   "cell_type": "code",
   "execution_count": 14,
   "metadata": {},
   "outputs": [
    {
     "data": {
      "image/png": "[encoded data removed]",
      "text/plain": [
       "<Figure size 576x216 with 1 Axes>"
      ]
     },
     "metadata": {
      "needs_background": "light"
     },
     "output_type": "display_data"
    }
   ],
   "source": [
    "reviews_per_month = listings_df.groupby('id').mean()['reviews_per_month'].reset_index()\n",
    "fig,ax = plt.subplots(nrows=1, sharex=True,figsize=(8, 3))\n",
    "reviews_per_month['reviews_per_month'][reviews_per_month['reviews_per_month']<1].hist(bins=1)\n",
    "\n",
    "plt.xlabel('Number of reviews')\n",
    "plt.ylabel('Number of objects')\n",
    "plt.title('Number of reviews per objects');"
   ]
  },
  {
   "cell_type": "code",
   "execution_count": 15,
   "metadata": {},
   "outputs": [
    {
     "data": {
      "image/png": "[encoded data removed]",
      "text/plain": [
       "<Figure size 576x216 with 1 Axes>"
      ]
     },
     "metadata": {
      "needs_background": "light"
     },
     "output_type": "display_data"
    }
   ],
   "source": [
    "fig,ax = plt.subplots(nrows=1, sharex=True,figsize=(8, 3))\n",
    "reviews_per_month['reviews_per_month'][reviews_per_month['reviews_per_month']<5].hist(bins=5)\n",
    "\n",
    "plt.xlabel('Number of reviews')\n",
    "plt.ylabel('Number of objects')\n",
    "plt.title('Number of reviews per objects');"
   ]
  },
  {
   "cell_type": "markdown",
   "metadata": {},
   "source": [
    "Removing again the outlier, the objects without any review, indicates that most of the remaining objects still only have or maybe 2 reviews, see Figure below."
   ]
  },
  {
   "cell_type": "code",
   "execution_count": 16,
   "metadata": {},
   "outputs": [
    {
     "data": {
      "image/png": "[encoded data removed]",
      "text/plain": [
       "<Figure size 576x216 with 1 Axes>"
      ]
     },
     "metadata": {
      "needs_background": "light"
     },
     "output_type": "display_data"
    }
   ],
   "source": [
    "reviews_per_month = listings_df.groupby('id').mean()['reviews_per_month'].reset_index()\n",
    "fig,ax = plt.subplots(nrows=1, sharex=True,figsize=(8, 3))\n",
    "reviews_per_month['reviews_per_month'][reviews_per_month['reviews_per_month'].between(1,5)].hist(bins=5)\n",
    "\n",
    "plt.xlabel('Number of reviews')\n",
    "plt.ylabel('Number of objects')\n",
    "plt.title('Number of reviews per objects');"
   ]
  },
  {
   "cell_type": "code",
   "execution_count": 17,
   "metadata": {},
   "outputs": [
    {
     "data": {
      "text/plain": [
       "4861"
      ]
     },
     "execution_count": 17,
     "metadata": {},
     "output_type": "execute_result"
    }
   ],
   "source": [
    "reviews_per_month['id'].nunique()"
   ]
  },
  {
   "cell_type": "markdown",
   "metadata": {},
   "source": [
    "Now, taking a look to the score rating of objects show that the most of the rated objects have scores over 4.5. However, due to high number of objects without any review rating score, could also make it hard to use this feature for quality/price analysis of the object. The distribution of score rating is shown in Figure below. Honestly, it can be seen that those object whose customers were satisfied gave a review and score to the object.\n"
   ]
  },
  {
   "cell_type": "code",
   "execution_count": 18,
   "metadata": {},
   "outputs": [
    {
     "data": {
      "image/png": "[encoded data removed]",
      "text/plain": [
       "<Figure size 576x216 with 1 Axes>"
      ]
     },
     "metadata": {
      "needs_background": "light"
     },
     "output_type": "display_data"
    }
   ],
   "source": [
    "review_score_rating = listings_df.groupby('id').mean()['review_scores_rating'].reset_index()\n",
    "fig,ax = plt.subplots(nrows=1, sharex=True,figsize=(8, 3))\n",
    "review_score_rating['review_scores_rating'][review_score_rating['review_scores_rating'] < 5].hist(bins=25)\n",
    "plt.xlabel('Review score rating')\n",
    "plt.ylabel('Number of objects')\n",
    "plt.title('Review score rating');"
   ]
  },
  {
   "cell_type": "markdown",
   "metadata": {},
   "source": [
    "### Section 5: Data Modeling (Optional)\n",
    "\n",
    "#### Question 4: Is it possible to predict the price of an object based on number of beds, bedrooms, review score rating?\n",
    "Prediction of price is a very interesting topic for many data scientists. To do so, one can make a regressor by training a neural network and setting its inputs to number of beds, number of bedrooms and review score rating for an output defined as price of the object. This needs a very precise preprocessing of data as they could include nans which have to be omitted/corrected. And as seen above, the inputs with too many zeros could not be used for training a neural network without any effort."
   ]
  },
  {
   "cell_type": "code",
   "execution_count": 19,
   "metadata": {},
   "outputs": [],
   "source": [
    "from sklearn.model_selection import train_test_split\n",
    "from sklearn.metrics import r2_score, mean_squared_error\n",
    "from time import time\n",
    "from sklearn.pipeline import make_pipeline\n",
    "from sklearn.preprocessing import QuantileTransformer\n",
    "from sklearn.neural_network import MLPRegressor\n"
   ]
  },
  {
   "cell_type": "markdown",
   "metadata": {},
   "source": [
    "Preprocessing the input and output data for modelling the price prediction based on selected features. Removing nans and values equal to zero.\n",
    "1. Preparing the data as inputs and outputs of the model and split them as train and test dataset.\n",
    "2. Making a neural network model for prediction of price.\n",
    "3. Fitting the model to the training dataset and testing it against test dataset."
   ]
  },
  {
   "cell_type": "code",
   "execution_count": 20,
   "metadata": {},
   "outputs": [
    {
     "name": "stderr",
     "output_type": "stream",
     "text": [
      "/var/folders/lq/fd263pl95vl70br52q7qp9xr0000gn/T/ipykernel_1163/304479728.py:2: UserWarning: Boolean Series key will be reindexed to match DataFrame index.\n",
      "  listings_df = listings_df.dropna(subset=['bedrooms'], axis=0)[listings_df['bedrooms'] > 0]\\\n"
     ]
    }
   ],
   "source": [
    "# dataframe with rows for nan are removed\n",
    "listings_df = listings_df.dropna(subset=['bedrooms'], axis=0)[listings_df['bedrooms'] > 0]\\\n",
    "    [listings_df['beds'] > 0][listings_df['review_scores_rating'] > 0]\n",
    "# preparing the data as inputs and outputs of the model\n",
    "X = listings_df[['beds','bedrooms','review_scores_rating']]\n",
    "Y = listings_df['price']\n",
    "\n",
    "tic = time()"
   ]
  },
  {
   "cell_type": "code",
   "execution_count": 21,
   "metadata": {},
   "outputs": [
    {
     "name": "stdout",
     "output_type": "stream",
     "text": [
      "Training MLPRegressor...\n",
      "done in 2.231s\n",
      "Test R2 score of training dataset 8.70 %\n",
      "Test R2 score of testing dataset 15.76 %\n"
     ]
    }
   ],
   "source": [
    "# Split data into training and test data, and fit a linear model\n",
    "X_train, X_test, Y_train, Y_test = train_test_split(X, Y , test_size=.10)\n",
    "model = make_pipeline(QuantileTransformer(), MLPRegressor(hidden_layer_sizes=(100,100,100), \n",
    "                                                          learning_rate_init=0.01, \n",
    "                                                          early_stopping=True,\n",
    "                                                          max_iter=100000,\n",
    "                                                          tol=0.0001,\n",
    "                                                          epsilon=1e-08),\n",
    ")\n",
    "\n",
    "\n",
    "# If our model works, it should just fit our model to the data. Otherwise, it will let us know.\n",
    "print(\"Training MLPRegressor...\")\n",
    "model.fit(X_train, Y_train)    \n",
    "print(f\"done in {time() - tic:.3f}s\")\n",
    "    \n",
    "Y_test_preds = model.predict(X_test)  # Predictions here\n",
    "\n",
    "# calculate rsquared and mse\n",
    "rsquared_train = model.score(X_train, Y_train)\n",
    "rsquared_test = model.score(X_test, Y_test)\n",
    "# print(rsquared)\n",
    "print('Test R2 score of training dataset',\"{:,.2f}\".format(100*rsquared_train),'%')\n",
    "print('Test R2 score of testing dataset',\"{:,.2f}\".format(100*rsquared_test),'%')\n"
   ]
  },
  {
   "cell_type": "markdown",
   "metadata": {},
   "source": [
    "### Summary:\n",
    "Here we just take a short look at the Airbnb data of Munich City, Germany. One can rent an object with one bedroom including 1/2 beds for an average price of 100$. If renting an object which is rated, it is probably a good one. Predicting the price of objects based on some features would be possible but challenging.\n",
    "\n",
    "Attention: The results here are just made as an exercise and should not be used as reference values."
   ]
  }
 ],
 "metadata": {
  "kernelspec": {
   "display_name": "Python 3.10.3 64-bit",
   "language": "python",
   "name": "python3"
  },
  "language_info": {
   "codemirror_mode": {
    "name": "ipython",
    "version": 3
   },
   "file_extension": ".py",
   "mimetype": "text/x-python",
   "name": "python",
   "nbconvert_exporter": "python",
   "pygments_lexer": "ipython3",
   "version": "3.10.3"
  },
  "orig_nbformat": 4,
  "vscode": {
   "interpreter": {
    "hash": "aee8b7b246df8f9039afb4144a1f6fd8d2ca17a180786b69acc140d282b71a49"
   }
  }
 },
 "nbformat": 4,
 "nbformat_minor": 2
}
